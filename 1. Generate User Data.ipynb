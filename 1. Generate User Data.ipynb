{
 "cells": [
  {
   "cell_type": "markdown",
   "metadata": {},
   "source": [
    "---\n",
    "---\n",
    "\n",
    "<center><h1> Setting up the Environment.</h1></center>\n",
    "\n",
    "---\n",
    "\n",
    "\n",
    "#### `Generate User Data`\n",
    "\n",
    "---\n",
    "\n",
    "In this notebook, we will generate random user data for the `users` table.\n",
    "\n",
    "---\n",
    "\n",
    "In the `users` table, we have the following columns:\n",
    "\n",
    "- **`user_id`**    : Unique string for each of the user. <br>\n",
    "- **`user_email`** : Email ID of the user which was used for the signup. <br>\n",
    "- **`user_name`**  : Name of the user <br>\n",
    "- **`source`**     : Signup source of the user <br> \n",
    "- **`is_prime`**   : Whether the user signed up for the free version or the prime version <br>\n",
    "- **`signup_time`** : Signup time of the user. <br>\n",
    "\n",
    "----\n",
    "\n",
    "- **`user_id`**    : Unique string using uuid will be generated. <br>\n",
    "- **`user_email`** : Random email-id will be generated. <br>\n",
    "- **`user_name`**  : Random user name will be generated using any 5 random characters. <br>\n",
    "- **`source`**     : Random source will be selected from a list of `Linkedin`, `Email`, `Facebook`, `Instagram`, `Organic` <br> \n",
    "- **`is_prime`**   : Random number from `0` or `1` will be selected. `0` means non-prime and `1` means prime. <br>\n",
    "- **`signup_time`** : Current Time will be used for the signup time. <br>\n",
    "\n",
    "---\n",
    "\n",
    "Every second a random time will be selected and a row in added into the users table.\n",
    "\n",
    "----"
   ]
  },
  {
   "cell_type": "markdown",
   "metadata": {},
   "source": [
    "----\n",
    "\n",
    "#### `Importing the Required Libraries.`\n",
    "\n",
    "---"
   ]
  },
  {
   "cell_type": "code",
   "execution_count": 5,
   "metadata": {},
   "outputs": [],
   "source": [
    "# importing the required libraries\n",
    "import time\n",
    "import random\n",
    "import uuid\n",
    "import pandas as pd\n",
    "import mysql.connector as mysql\n",
    "import logging"
   ]
  },
  {
   "cell_type": "code",
   "execution_count": 6,
   "metadata": {},
   "outputs": [],
   "source": [
    "# define the function generate_new_row\n",
    "def generate_new_row():\n",
    "    # random user id\n",
    "    user_id = str(uuid.uuid4())\n",
    "    \n",
    "    # random email id\n",
    "    user_email = str(''.join(random.choices('abcireubgurgbe',k=5))) + str(random.randint(1000,99999)) + \"@gmil.com\"\n",
    "    \n",
    "    # random user name\n",
    "    user_name  = str(''.join(random.choices(\"ABC\",k=1))) + str(''.join(random.choices(\"ibruegbieiurgeriuger\", k = 4)))\n",
    "    \n",
    "    # random source\n",
    "    source     = random.choice(['LinkedIn', 'Email', 'Instagram', 'Facebook', 'Organic', \"Not Available\"])\n",
    "    \n",
    "    # random prime customers with a probability of 2/7\n",
    "    # you can choose, any ratio. This is completely random\n",
    "    is_prime   = random.choice([1, 1, 0, 0, 0, 0, 0])\n",
    "    \n",
    "    # current time as random time\n",
    "    signup_time = str(pd.datetime.now())\n",
    "    \n",
    "    # return the user details\n",
    "    return user_id, user_email, user_name,  source, is_prime, signup_time\n",
    "    "
   ]
  },
  {
   "cell_type": "code",
   "execution_count": 7,
   "metadata": {},
   "outputs": [],
   "source": [
    "# connect to the database, enter details according to your mysql configuration\n",
    "db = mysql.connect(\n",
    "    host = \"localhost\",\n",
    "    user = \"lakshay\",  ## Enter your user name here\n",
    "    password = \"ABC@123\", ## Enter your password here\n",
    "    database = \"website\", ## Enter the database name here\n",
    "    auth_plugin = \"mysql_native_password\",\n",
    ")\n",
    "# create the cursor\n",
    "cursor = db.cursor()"
   ]
  },
  {
   "cell_type": "markdown",
   "metadata": {},
   "source": [
    "---\n",
    "\n",
    "Run the following command to add the rows inside the users table.\n",
    "\n",
    "---"
   ]
  },
  {
   "cell_type": "code",
   "execution_count": null,
   "metadata": {},
   "outputs": [],
   "source": [
    "while True:\n",
    "    command = \"INSERT INTO users values\" + str(generate_new_row())\n",
    "    cursor.execute(command)\n",
    "    db.commit()\n",
    "    time.sleep(random.random())"
   ]
  },
  {
   "cell_type": "code",
   "execution_count": null,
   "metadata": {},
   "outputs": [],
   "source": []
  }
 ],
 "metadata": {
  "kernelspec": {
   "display_name": "Python 3",
   "language": "python",
   "name": "python3"
  },
  "language_info": {
   "codemirror_mode": {
    "name": "ipython",
    "version": 3
   },
   "file_extension": ".py",
   "mimetype": "text/x-python",
   "name": "python",
   "nbconvert_exporter": "python",
   "pygments_lexer": "ipython3",
   "version": "3.7.5"
  }
 },
 "nbformat": 4,
 "nbformat_minor": 2
}
