{
 "cells": [
  {
   "cell_type": "markdown",
   "metadata": {},
   "source": [
    "---\n",
    "---\n",
    "\n",
    "<center><h1> Setting up the Environment.</h1></center>\n",
    "\n",
    "---\n",
    "\n",
    "\n",
    "#### `Generate Refund Data`\n",
    "\n",
    "---\n",
    "\n",
    "In this notebook, we will generate random refund request data for the `refund_detail` table.\n",
    "\n",
    "---\n",
    "\n",
    "In the `refund_detail` table, we have the following columns:\n",
    "\n",
    "- **`ticket_id`**    : Randomly generated string for each of the refund request. <br>\n",
    "- **`user_name`** : Random user name , we will assume that it is entered by the user on our refund request page. <br>\n",
    "- **`transaction_id`**  : Randomly selected transaction id from the transaction table. <br>\n",
    "- **`transaction_amount`**     : Transaction amount, it will also entered by the user. <br> \n",
    "- **`ticket_raise_time`**   : Current time will be used as the ticket raise time. <br>\n",
    "\n",
    "---\n",
    "\n",
    "\n",
    "\n",
    "---\n",
    "\n",
    "Every 10-20 seconds a row in added into the refund request table. This is completely customizable. We have selected this time period so that we will be able to test our pipleine quickly.\n",
    "\n",
    "----\n",
    "\n",
    "#### `Importing the Required Libraries`\n",
    "\n",
    "---"
   ]
  },
  {
   "cell_type": "code",
   "execution_count": 5,
   "metadata": {},
   "outputs": [],
   "source": [
    "# importing the required libraries\n",
    "import time\n",
    "import random\n",
    "import uuid\n",
    "import pandas as pd\n",
    "import mysql.connector as mysql"
   ]
  },
  {
   "cell_type": "markdown",
   "metadata": {},
   "source": [
    "---\n",
    "\n",
    "#### `Define the function to generate refund requests.`\n",
    "\n",
    "---"
   ]
  },
  {
   "cell_type": "code",
   "execution_count": 6,
   "metadata": {},
   "outputs": [],
   "source": [
    "# define the generate_refund function\n",
    "def generate_refund(transactions):\n",
    "    # randomly generate the ticket id using uuid\n",
    "    ticket_id = \"TICKET-\" + str(uuid.uuid4())\n",
    "    \n",
    "    # select any random transaction id from the transaction id list\n",
    "    random_index = random.randint(0,len(transactions)-1)\n",
    "    transaction_id = transactions[random_index][0]\n",
    "    \n",
    "    # create a random user name of 5 characters\n",
    "    user_name  = str(''.join(random.choices(\"ABC\",k=1))) + str(''.join(random.choices(\"ibruegbieiurgeriuger\", k = 4)))\n",
    "    \n",
    "    # create a random transaction amount\n",
    "    transaction_amount = transactions[random_index][1]\n",
    "    refund_status = \"NEW\"\n",
    "    \n",
    "    # current time as the ticket raise time\n",
    "    ticket_raise_time = str(pd.datetime.now())\n",
    "    \n",
    "    # we will add error in 20 percent of the refund request.\n",
    "    # if the random error is 1, then it is a valid request\n",
    "    # else if the random error is 0, then it is an invalid request\n",
    "    random_error = random.choice([1,1,1,1,0])\n",
    "    \n",
    "    # if the random error is 0, then manipulate the transaction id\n",
    "    if random_error == 0:        \n",
    "        if random.choice([0,1,0,0,0]) == 0:    \n",
    "            transaction_id = transaction_id.replace('0', 's')        \n",
    "        else:\n",
    "            transaction_amount = transaction_amount + 100\n",
    "    \n",
    "    # return the values\n",
    "    return ticket_id, user_name, transaction_id, transaction_amount, ticket_raise_time\n",
    "    "
   ]
  },
  {
   "cell_type": "markdown",
   "metadata": {},
   "source": [
    "---\n",
    "\n",
    "#### `Connect to the database`\n",
    "\n",
    "---"
   ]
  },
  {
   "cell_type": "code",
   "execution_count": 7,
   "metadata": {},
   "outputs": [],
   "source": [
    "# connect to the database\n",
    "db = mysql.connect(\n",
    "    host = \"localhost\",\n",
    "    user = \"lakshay\",  ## Enter your user name here\n",
    "    password = \"ABC@123\", ## Enter your password here\n",
    "    database = \"website\", ## Enter the database name here\n",
    "    auth_plugin = \"mysql_native_password\",\n",
    ")\n",
    "# create the cursor\n",
    "cursor = db.cursor()"
   ]
  },
  {
   "cell_type": "markdown",
   "metadata": {},
   "source": [
    "Now, every 10-20 seconds a new random refund request will be generated. You can change this if you want. Also, after every 10 requests, that will take around 100-200 seconds, updated transaction id's list will selected.\n",
    "\n",
    "---"
   ]
  },
  {
   "cell_type": "code",
   "execution_count": null,
   "metadata": {},
   "outputs": [],
   "source": [
    "while True:\n",
    "    # get the updated transaction_ids and price from the updated transactions table.\n",
    "    command = \"SELECT transaction_id, price FROM transaction\"\n",
    "    cursor.execute(command)\n",
    "    transactions = cursor.fetchall()\n",
    "    \n",
    "    # generate 10 refund request every 10-20 seconds\n",
    "    for i in range(10):\n",
    "        command = \"INSERT INTO refund_detail values\" + str(generate_refund(transactions))\n",
    "        cursor.execute(command)\n",
    "        db.commit()\n",
    "        time.sleep(random.randint(10,20))"
   ]
  },
  {
   "cell_type": "code",
   "execution_count": null,
   "metadata": {},
   "outputs": [],
   "source": []
  }
 ],
 "metadata": {
  "kernelspec": {
   "display_name": "Python 3",
   "language": "python",
   "name": "python3"
  },
  "language_info": {
   "codemirror_mode": {
    "name": "ipython",
    "version": 3
   },
   "file_extension": ".py",
   "mimetype": "text/x-python",
   "name": "python",
   "nbconvert_exporter": "python",
   "pygments_lexer": "ipython3",
   "version": "3.7.5"
  }
 },
 "nbformat": 4,
 "nbformat_minor": 2
}
