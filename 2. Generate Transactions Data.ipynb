{
 "cells": [
  {
   "cell_type": "markdown",
   "metadata": {},
   "source": [
    "---\n",
    "---\n",
    "\n",
    "<center><h1> Setting up the Environment.</h1></center>\n",
    "\n",
    "---\n",
    "\n",
    "\n",
    "#### `Generate Transaction Data`\n",
    "\n",
    "---\n",
    "\n",
    "In this notebook, we will generate random transaction data for the `transaction` table.\n",
    "\n",
    "---\n",
    "\n",
    "In the `transaction` table, we have the following columns:\n",
    "\n",
    "- **`transaction_id`**    : Randomly generated string for each of the transaction. <br>\n",
    "- **`user_id`** : Random user id from the existing users. A list of user id will be updated every minute. <br>\n",
    "- **`product_id`**  : Random product id from the CSV file <br>\n",
    "- **`transaction_time`**     : Current time will be used as transaction time <br> \n",
    "- **`price`**   : price of the product will be according to the product_id using the CSV file <br>\n",
    "\n",
    "---\n",
    "\n",
    "\n",
    "\n",
    "---\n",
    "\n",
    "Every 4 seconds a row in added into the transaction table.\n",
    "\n",
    "----\n",
    "\n",
    "#### `Importing the Required Libraries`\n",
    "\n",
    "---"
   ]
  },
  {
   "cell_type": "code",
   "execution_count": 7,
   "metadata": {},
   "outputs": [],
   "source": [
    "# importing the required libraries\n",
    "import time\n",
    "import random\n",
    "import uuid\n",
    "import pandas as pd\n",
    "import mysql.connector as mysql"
   ]
  },
  {
   "cell_type": "markdown",
   "metadata": {},
   "source": [
    "---\n",
    "\n",
    "Read the `product_table.csv` which is present in the dataset folder. We will use this table to add `product_id` and `price` for every transaction.\n",
    "\n",
    "\n",
    "---"
   ]
  },
  {
   "cell_type": "code",
   "execution_count": 8,
   "metadata": {},
   "outputs": [],
   "source": [
    "# read the products CSV file\n",
    "products_table = pd.read_csv('dataset/product_table.csv')"
   ]
  },
  {
   "cell_type": "markdown",
   "metadata": {},
   "source": [
    "---\n",
    "\n",
    "####  `Define a function to Generate New Transactions.`\n",
    "\n",
    "---"
   ]
  },
  {
   "cell_type": "code",
   "execution_count": 9,
   "metadata": {},
   "outputs": [],
   "source": [
    "# function to generate new transactions\n",
    "# this function will use a list of existing users as a parameter\n",
    "def generate_new_transaction(users):\n",
    "    \n",
    "    # generate random transaction id\n",
    "    transaction_id = \"TI-\"+str(uuid.uuid4())\n",
    "    \n",
    "    # select a random user id \n",
    "    user_id = users[random.randint(0,len(users))][0]\n",
    "    \n",
    "    # select a random product_id using the CSV file\n",
    "    random_product = random.randint(0, products_table.shape[0]-1)\n",
    "    product_id = products_table.iloc[random_product]['product_id']\n",
    "    \n",
    "    # current time will be transaction time\n",
    "    transaction_time = str(pd.datetime.now())\n",
    "    \n",
    "    # price of the product using the CSV file\n",
    "    price = products_table.iloc[random_product]['product_price']\n",
    "    \n",
    "    # return the values\n",
    "    return transaction_id, user_id, product_id, transaction_time, price\n",
    "    "
   ]
  },
  {
   "cell_type": "markdown",
   "metadata": {},
   "source": [
    "#### `Connect to the database`\n",
    "\n",
    "---"
   ]
  },
  {
   "cell_type": "code",
   "execution_count": 10,
   "metadata": {},
   "outputs": [],
   "source": [
    "# connect to the database. \n",
    "# enter the details according to your mysql configuration\n",
    "db = mysql.connect(\n",
    "    host = \"localhost\",\n",
    "    user = \"lakshay\",  ## Enter your user name here\n",
    "    password = \"ABC@123\", ## Enter your password here\n",
    "    database = \"website\", ## Enter the database name here\n",
    "    auth_plugin = \"mysql_native_password\",\n",
    ")\n",
    "# create the cursor\n",
    "cursor = db.cursor()"
   ]
  },
  {
   "cell_type": "markdown",
   "metadata": {},
   "source": [
    "---\n",
    "\n",
    "Now, The new users data is continously coming with our first script. Here, we will first extract the `user_id` from the user table. We will then do 25 transaction, each transaction will happen after every 4 seconds. And after the 25 transactions, we will again update the users table.\n",
    "\n",
    "---"
   ]
  },
  {
   "cell_type": "code",
   "execution_count": null,
   "metadata": {},
   "outputs": [],
   "source": [
    "while True:\n",
    "    # get the users list\n",
    "    command = \"SELECT user_id FROM users\"\n",
    "    cursor.execute(command)\n",
    "    users = cursor.fetchall() \n",
    "    # create the new random transaction\n",
    "    # a time is selected randomly upto 4 seconds and transction row will be added.\n",
    "    # after 25 transactions, again all the users list will be updated.\n",
    "    for i in range(25):\n",
    "        command = \"INSERT INTO transaction values\" + str(generate_new_transaction(users))\n",
    "        cursor.execute(command)\n",
    "        db.commit()\n",
    "        time.sleep(random.randint(0,4))"
   ]
  },
  {
   "cell_type": "code",
   "execution_count": null,
   "metadata": {},
   "outputs": [],
   "source": []
  },
  {
   "cell_type": "code",
   "execution_count": null,
   "metadata": {},
   "outputs": [],
   "source": []
  }
 ],
 "metadata": {
  "kernelspec": {
   "display_name": "Python 3",
   "language": "python",
   "name": "python3"
  },
  "language_info": {
   "codemirror_mode": {
    "name": "ipython",
    "version": 3
   },
   "file_extension": ".py",
   "mimetype": "text/x-python",
   "name": "python",
   "nbconvert_exporter": "python",
   "pygments_lexer": "ipython3",
   "version": "3.7.5"
  }
 },
 "nbformat": 4,
 "nbformat_minor": 2
}
